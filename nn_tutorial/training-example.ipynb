{
 "cells": [
  {
   "cell_type": "code",
   "execution_count": 1,
   "id": "worthy-mission",
   "metadata": {},
   "outputs": [],
   "source": [
    "import numpy as np\n",
    "import matplotlib.pyplot as plt\n",
    "\n",
    "import nn_tutorial.data as nd\n",
    "import nn_tutorial.main as nm"
   ]
  },
  {
   "cell_type": "markdown",
   "id": "hearing-bread",
   "metadata": {},
   "source": [
    "# Process the MNIST Data"
   ]
  },
  {
   "cell_type": "markdown",
   "id": "several-broadway",
   "metadata": {},
   "source": [
    "## 1. Load data from OpenML"
   ]
  },
  {
   "cell_type": "code",
   "execution_count": 2,
   "id": "noticed-exclusion",
   "metadata": {},
   "outputs": [],
   "source": [
    "X, y = nd.load_data()"
   ]
  },
  {
   "cell_type": "code",
   "execution_count": 3,
   "id": "increased-holly",
   "metadata": {},
   "outputs": [
    {
     "name": "stdout",
     "output_type": "stream",
     "text": [
      "(70000, 784) (70000,)\n"
     ]
    }
   ],
   "source": [
    "print(X.shape, y.shape)"
   ]
  },
  {
   "cell_type": "code",
   "execution_count": 4,
   "id": "optical-nevada",
   "metadata": {},
   "outputs": [],
   "source": [
    "def plot_idx(i):\n",
    "    fig = plt.figure()\n",
    "    ax = fig.add_subplot(111)\n",
    "    ax.imshow(X[i, :].reshape(28, 28), cmap=plt.cm.gray_r, interpolation='nearest')\n",
    "    plt.title(f\"Label: {y[i]}\")"
   ]
  },
  {
   "cell_type": "markdown",
   "id": "endangered-romance",
   "metadata": {},
   "source": [
    "### Plot a few examples"
   ]
  },
  {
   "cell_type": "code",
   "execution_count": 5,
   "id": "handmade-carry",
   "metadata": {
    "scrolled": false
   },
   "outputs": [
    {
     "data": {
      "image/png": "[encoded data removed]",
      "text/plain": [
       "<Figure size 864x432 with 1 Axes>"
      ]
     },
     "metadata": {
      "needs_background": "light"
     },
     "output_type": "display_data"
    },
    {
     "data": {
      "image/png": "[encoded data removed]",
      "text/plain": [
       "<Figure size 864x432 with 1 Axes>"
      ]
     },
     "metadata": {
      "needs_background": "light"
     },
     "output_type": "display_data"
    },
    {
     "data": {
      "image/png": "[encoded data removed]",
      "text/plain": [
       "<Figure size 864x432 with 1 Axes>"
      ]
     },
     "metadata": {
      "needs_background": "light"
     },
     "output_type": "display_data"
    }
   ],
   "source": [
    "for i in np.random.randint(0, len(X), size=3):\n",
    "    plot_idx(i)"
   ]
  },
  {
   "cell_type": "markdown",
   "id": "pointed-architecture",
   "metadata": {},
   "source": [
    "## 2. Split data into (train, valid, test)"
   ]
  },
  {
   "cell_type": "code",
   "execution_count": 6,
   "id": "likely-distributor",
   "metadata": {},
   "outputs": [],
   "source": [
    "X_tr, X_val, X_te, y_tr, y_val, y_te = nd.split_data(X, y)"
   ]
  },
  {
   "cell_type": "markdown",
   "id": "accepting-amazon",
   "metadata": {},
   "source": [
    "## 3. Calculate batch generators"
   ]
  },
  {
   "cell_type": "code",
   "execution_count": 7,
   "id": "modular-bunch",
   "metadata": {},
   "outputs": [],
   "source": [
    "num_epochs_tr = 1_000_000_000\n",
    "batch_size = 128\n",
    "bg_tr = nd.generate_batches(X_tr, y_tr, batch_size, num_epochs_tr)\n",
    "bg_val = nd.generate_batches(X_val, y_val, batch_size, num_epochs_tr)\n",
    "bg_te = nd.generate_batches(X_te, y_te, batch_size, 1)"
   ]
  },
  {
   "cell_type": "markdown",
   "id": "invalid-slovenia",
   "metadata": {},
   "source": [
    "# Train model"
   ]
  },
  {
   "cell_type": "code",
   "execution_count": 8,
   "id": "remarkable-oxide",
   "metadata": {},
   "outputs": [
    {
     "name": "stdout",
     "output_type": "stream",
     "text": [
      "Loss for random guesser: 2.30259\n"
     ]
    }
   ],
   "source": [
    "baseline_loss = -np.log(1/10.)\n",
    "print(f\"Loss for random guesser: {baseline_loss:0.5f}\")"
   ]
  },
  {
   "cell_type": "code",
   "execution_count": 9,
   "id": "incorrect-potato",
   "metadata": {},
   "outputs": [
    {
     "name": "stdout",
     "output_type": "stream",
     "text": [
      "[step 1]: loss_tr: -0.10001    loss_val: -0.12315    acc_val: 0.35156\n",
      "[step 500]: loss_tr: -0.89406    loss_val: -0.89469    acc_val: 0.91507\n",
      "[step 1000]: loss_tr: -0.95701    loss_val: -0.94979    acc_val: 0.95517\n",
      "[step 1500]: loss_tr: -0.96989    loss_val: -0.95745    acc_val: 0.96134\n",
      "[step 2000]: loss_tr: -0.97633    loss_val: -0.96204    acc_val: 0.96497\n",
      "[step 2500]: loss_tr: -0.98044    loss_val: -0.96290    acc_val: 0.96535\n",
      "[step 3000]: loss_tr: -0.98289    loss_val: -0.96479    acc_val: 0.96658\n",
      "[step 3500]: loss_tr: -0.98443    loss_val: -0.96590    acc_val: 0.96733\n",
      "[step 4000]: loss_tr: -0.98578    loss_val: -0.96729    acc_val: 0.96896\n",
      "[step 4500]: loss_tr: -0.98664    loss_val: -0.96739    acc_val: 0.96853\n",
      "[step 5000]: loss_tr: -0.98722    loss_val: -0.96707    acc_val: 0.96829\n"
     ]
    }
   ],
   "source": [
    "hidden_size = 256\n",
    "max_steps = 5_000\n",
    "learning_rate = 1e-3\n",
    "batch_generators = (bg_tr, bg_val, bg_te)\n",
    "logging_interval = 500\n",
    "\n",
    "clf = nm.train_ff_model(\n",
    "    hidden_size=hidden_size,\n",
    "    max_steps=max_steps,\n",
    "    learning_rate=learning_rate,\n",
    "    batch_generators=batch_generators,\n",
    "    logging_interval=logging_interval\n",
    ")"
   ]
  },
  {
   "cell_type": "code",
   "execution_count": null,
   "id": "streaming-offset",
   "metadata": {},
   "outputs": [],
   "source": []
  }
 ],
 "metadata": {
  "kernelspec": {
   "display_name": "Python 3",
   "language": "python",
   "name": "python3"
  },
  "language_info": {
   "codemirror_mode": {
    "name": "ipython",
    "version": 3
   },
   "file_extension": ".py",
   "mimetype": "text/x-python",
   "name": "python",
   "nbconvert_exporter": "python",
   "pygments_lexer": "ipython3",
   "version": "3.8.8"
  }
 },
 "nbformat": 4,
 "nbformat_minor": 5
}
