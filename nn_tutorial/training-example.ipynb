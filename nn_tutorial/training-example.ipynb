{
 "cells": [
  {
   "cell_type": "code",
   "execution_count": 7,
   "id": "worthy-mission",
   "metadata": {},
   "outputs": [],
   "source": [
    "import matplotlib.pyplot as plt\n",
    "\n",
    "import nn_tutorial.data as nd\n",
    "import nn_tutorial.main as nm"
   ]
  },
  {
   "cell_type": "markdown",
   "id": "hearing-bread",
   "metadata": {},
   "source": [
    "# Load the Data"
   ]
  },
  {
   "cell_type": "code",
   "execution_count": 3,
   "id": "noticed-exclusion",
   "metadata": {},
   "outputs": [],
   "source": [
    "X, y = nd.load_data()"
   ]
  },
  {
   "cell_type": "code",
   "execution_count": 5,
   "id": "increased-holly",
   "metadata": {},
   "outputs": [
    {
     "name": "stdout",
     "output_type": "stream",
     "text": [
      "(70000, 784) (70000,)\n"
     ]
    }
   ],
   "source": [
    "print(X.shape, y.shape)"
   ]
  },
  {
   "cell_type": "code",
   "execution_count": 10,
   "id": "optical-nevada",
   "metadata": {},
   "outputs": [],
   "source": [
    "def plot_idx(i):\n",
    "    fig = plt.figure()\n",
    "    ax = fig.add_subplot(111)\n",
    "    ax.imshow(X[i, :].reshape(28, 28), cmap=plt.cm.gray_r, interpolation='nearest')\n",
    "    plt.title(f\"Label: {y[i]}\")"
   ]
  },
  {
   "cell_type": "code",
   "execution_count": 11,
   "id": "handmade-carry",
   "metadata": {},
   "outputs": [
    {
     "data": {
      "image/png": "[encoded data removed]",
      "text/plain": [
       "<Figure size 864x432 with 1 Axes>"
      ]
     },
     "metadata": {
      "needs_background": "light"
     },
     "output_type": "display_data"
    }
   ],
   "source": [
    "plot_idx(10)"
   ]
  },
  {
   "cell_type": "markdown",
   "id": "pointed-architecture",
   "metadata": {},
   "source": [
    "# Calculate Batch Generators"
   ]
  },
  {
   "cell_type": "code",
   "execution_count": 12,
   "id": "likely-distributor",
   "metadata": {},
   "outputs": [],
   "source": [
    "X_tr, X_val, X_te, y_tr, y_val, y_te = nd.split_data(X, y)"
   ]
  },
  {
   "cell_type": "code",
   "execution_count": 14,
   "id": "modular-bunch",
   "metadata": {},
   "outputs": [],
   "source": [
    "num_epochs_tr = 1_000_000_000\n",
    "batch_size = 128\n",
    "bg_tr = nd.generate_batches(X_tr, y_tr, batch_size, num_epochs_tr)\n",
    "bg_val = nd.generate_batches(X_val, y_val, batch_size, num_epochs_tr)\n",
    "bg_te = nd.generate_batches(X_te, y_te, batch_size, 1)\n"
   ]
  },
  {
   "cell_type": "markdown",
   "id": "invalid-slovenia",
   "metadata": {},
   "source": [
    "# Train the Model"
   ]
  },
  {
   "cell_type": "code",
   "execution_count": 21,
   "id": "incorrect-potato",
   "metadata": {},
   "outputs": [
    {
     "name": "stdout",
     "output_type": "stream",
     "text": [
      "[step 1]: loss_tr: -0.10087    loss_val: -0.12492    acc_val: 0.43750\n",
      "[step 1000]: loss_tr: -0.92664    loss_val: -0.92132    acc_val: 0.93354\n",
      "[step 2000]: loss_tr: -0.97310    loss_val: -0.95950    acc_val: 0.96247\n",
      "[step 3000]: loss_tr: -0.98120    loss_val: -0.96439    acc_val: 0.96659\n",
      "[step 4000]: loss_tr: -0.98513    loss_val: -0.96729    acc_val: 0.96850\n",
      "[step 5000]: loss_tr: -0.98720    loss_val: -0.96864    acc_val: 0.97021\n"
     ]
    }
   ],
   "source": [
    "hidden_size = 256\n",
    "max_steps = 5_000\n",
    "learning_rate = 1e-3\n",
    "batch_generators = (bg_tr, bg_val, bg_te)\n",
    "logging_interval = 1_000\n",
    "\n",
    "clf = nm.train_ff_model(\n",
    "    hidden_size=hidden_size,\n",
    "    max_steps=max_steps,\n",
    "    learning_rate=learning_rate,\n",
    "    batch_generators=batch_generators,\n",
    "    logging_interval=logging_interval\n",
    ")"
   ]
  },
  {
   "cell_type": "code",
   "execution_count": null,
   "id": "infinite-disability",
   "metadata": {},
   "outputs": [],
   "source": []
  }
 ],
 "metadata": {
  "kernelspec": {
   "display_name": "Python 3",
   "language": "python",
   "name": "python3"
  },
  "language_info": {
   "codemirror_mode": {
    "name": "ipython",
    "version": 3
   },
   "file_extension": ".py",
   "mimetype": "text/x-python",
   "name": "python",
   "nbconvert_exporter": "python",
   "pygments_lexer": "ipython3",
   "version": "3.8.8"
  }
 },
 "nbformat": 4,
 "nbformat_minor": 5
}
